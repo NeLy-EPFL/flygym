{
 "cells": [
  {
   "cell_type": "markdown",
   "metadata": {},
   "source": [
    "# Encapsulating custom code into Gym environments: A turning controller\n",
    "\n",
    "**Summary:** In this tutorial, we will demonstrate how one can build controllers at different levels of abstraction by implementing Gym environments encoding variable amounts of preprogrammed computation. As an example, we will refactor the code we wrote in the [hybrid controller tutorial](https://neuromechfly.org/tutorials/hybrid_controller.html#building-a-hybrid-controller) and implement turning by modulating the amplitude and frequency of CPGs asymmetrically."
   ]
  },
  {
   "cell_type": "markdown",
   "metadata": {},
   "source": [
    "## Gym environments and MDP\n",
    "\n",
    "So far, we have interacted with the `NeuroMechFly` class which implements the [Gym interface](https://gymnasium.farama.org/): it has an action space (input given by the user), an observation space (output returned to the user), a `.step(...)` method, a `.reset(...)` method, and a `.render(...)` method. The action and observation spaces of `NeuroMechFly` are the following:\n",
    "\n",
    "- Action space:\n",
    "    - \"joints\": 42-dimensional real vector ∈ [0, 2π] indicating joint angles (in default position control mode)\n",
    "    - \"adhesion\": 6-dimensional integer vector ∈ {0, 1} indicating whether adhesion is turned on for each leg\n",
    "- Observation space:\n",
    "    - \"joints\": shape (3, 42) real array indicating joint angles (0th row), velocities (1st row), and torques (2nd row)\n",
    "    - \"fly\": shape (4, 3) real array indicating fly xyz positions (0th row), xyz velocities (1st row), yaw-pitch-roll angles (2nd row), and yaw-pitch-roll velocities (3rd row)\n",
    "    - \"contact_forces\": shape (N, 3) - contact forces, in xyz directions, of the N segments defined in `contact_sensor_placements`\n",
    "    - \"end_effectors\": shape (6, 3) - xyz positions of the six legs in the order of LF, LM LH, RF, RM, RH\n",
    "    - \"fly_orientation\": shape (3,) - unit vector indicating the fly's heading orientation\n",
    "\n",
    "\n",
    "The FlyGym package is designed to be expandable: the user can implement their own Gym environments with different action and observation spaces and implement different logics (eg. preprogrammed premotor computation and sensory processing). This is demonstrated in the figure below:\n",
    "\n",
    "<img src=\"https://github.com/NeLy-EPFL/_media/blob/main/flygym/mdp.png?raw=true\" alt=\"rule_based\" width=\"500\"/>\n",
    "\n",
    "In the hybrid controller that [we have implemented](https://neuromechfly.org/tutorials/hybrid_controller.html#building-a-hybrid-controller), the underlying CPG network and the correction mechanisms can be considered the user-defined premotor computation (purple). The whole controller can be considered the box indicating the Markov Decision Process (MDP). Here, we will add a 2D descending representation encoding turning so that the action and observation spaces of our MDP \"box\" are the following:\n",
    "\n",
    "- Action space: a 2-dimensional real vector describing the velocity on each side. Although in principle the range of the amplitude is unrestricted, its absolute value shouldn't go much beyond 1 because otherwise the steps become very unrealistic.\n",
    "- Observation space: same as above (no sensory processing logic indicated in cyan)"
   ]
  },
  {
   "cell_type": "markdown",
   "metadata": {},
   "source": [
    "## Approach for turning\n",
    "\n",
    "We will use a 2-dimensional descending representation $[\\delta_L, \\delta_R] \\in \\mathbb{R}^2$ to modulate the amplitude and direction of the CPGs on each side. Precisely, we will modulate the intrinsic amplitude $R'$ and intrinsic frequency $\\nu'$ on each side by:\n",
    "\n",
    "$$\n",
    "R'(\\delta) = |\\delta|\n",
    "$$\n",
    "\n",
    "$$\n",
    "\\nu_i'(\\delta) = \\begin{cases}\n",
    "\\nu_i   & \\text{if } \\delta>0\\\\\n",
    "-\\nu_i  & \\text{otherwise}\n",
    "\\end{cases}\n",
    "$$\n",
    "\n",
    "In other words, the maginuted of the descending signal controls the amplitude of stepping (as a fraction of the originally recorded step size); the sign of the descending signal controls the direction of stepping. Of course, this is a very simplified model of turning. Perhaps the most unrealisitc aspect of it is that it assumes the step size to linearly span from 0 to 1x the recorded \"normal\" step size. This is something that the user can improve."
   ]
  },
  {
   "cell_type": "markdown",
   "metadata": {},
   "source": [
    "## Implementing the `HybridTurningController` class\n",
    "\n",
    "A key idea of the Gym interface is that it allows the user to encapsulate the control logic in a Gym environment (a MDP), and expose only the input and output (action and observation) to the controller. This is achieved using [class inheritance](https://www.w3schools.com/python/python_inheritance.asp) in Python: briefly, it allows a new class (subclass or child class) to inherit attributes and methods from an existing class (base class or parent class), enabling code reuse and the creation of hierarchical relationships between classes. Refer to the tutorial linked above to familiarize yourself with the concept.\n",
    "\n",
    "All Gym environments inherit from the `gymnasium.Env` class. You can refer to [the API reference of this class](https://gymnasium.farama.org/api/env/#gymnasium-env) for a full specification, or [this page](https://gymnasium.farama.org/tutorials/gymnasium_basics/environment_creation/) for a tutorial on how to make your own custom environment. The `NeuroMechFly` class we have used so far inherits from it and therefore complies with its specifications. Here, we will build a `HybridTurningController` class that inherits from `NeuroMechFly` to provide a simplified interface to control turning via a 2D input space, which can be interpreted as a descending code.\n",
    "\n",
    "First, let's do the necessary imports and define the default parameter as before:"
   ]
  },
  {
   "cell_type": "code",
   "execution_count": 1,
   "metadata": {},
   "outputs": [],
   "source": [
    "import numpy as np\n",
    "import matplotlib.pyplot as plt\n",
    "from tqdm import trange\n",
    "from gymnasium import spaces\n",
    "from gymnasium.utils.env_checker import check_env\n",
    "\n",
    "from flygym.mujoco import Parameters, NeuroMechFly\n",
    "from flygym.mujoco.examples.common import PreprogrammedSteps\n",
    "from flygym.mujoco.examples.cpg_controller import CPGNetwork\n",
    "\n",
    "\n",
    "_tripod_phase_biases = np.pi * np.array(\n",
    "    [\n",
    "        [0, 1, 0, 1, 0, 1],\n",
    "        [1, 0, 1, 0, 1, 0],\n",
    "        [0, 1, 0, 1, 0, 1],\n",
    "        [1, 0, 1, 0, 1, 0],\n",
    "        [0, 1, 0, 1, 0, 1],\n",
    "        [1, 0, 1, 0, 1, 0],\n",
    "    ]\n",
    ")\n",
    "_tripod_coupling_weights = (_tripod_phase_biases > 0) * 10\n",
    "\n",
    "_default_correction_vectors = {\n",
    "    # \"leg pos\": (Coxa, Coxa_roll, Coxa_yaw, Femur, Fimur_roll, Tibia, Tarsus1)\n",
    "    \"F\": np.array([0, 0, 0, -0.02, 0, 0.016, 0]),\n",
    "    \"M\": np.array([-0.015, 0, 0, 0.004, 0, 0.01, -0.008]),\n",
    "    \"H\": np.array([0, 0, 0, -0.01, 0, 0.005, 0]),\n",
    "}\n",
    "_default_correction_rates = {\"retraction\": (500, 1000 / 3), \"stumbling\": (2000, 500)}"
   ]
  },
  {
   "cell_type": "markdown",
   "metadata": {},
   "source": [
    "Now, we will define the `__init__` method of our `HybridTurningNMF` class. The [complete, functional class definition](https://github.com/NeLy-EPFL/flygym/blob/main/flygym/mujoco/examples/hybrid_turning_controller.py) can be found on our GitHub repository. You can import it with `from flygym.mujoco.examples.turning_controller import HybridTurningNMF`.\n",
    "\n",
    "We start with initializing the parent class by calling `super().__init__(...)`. This basically calls the `__init__` logic of the parent `NeuroMechFly` class using the specified parameters:\n",
    "\n",
    "```Python\n",
    "class HybridTurningNMF(NeuroMechFly):\n",
    "    def __init__(\n",
    "        self,\n",
    "        preprogrammed_steps=None,\n",
    "        intrinsic_freqs=np.ones(6) * 12,\n",
    "        intrinsic_amps=np.ones(6) * 1,\n",
    "        phase_biases=_tripod_phase_biases,\n",
    "        coupling_weights=_tripod_coupling_weights,\n",
    "        convergence_coefs=np.ones(6) * 20,\n",
    "        init_phases=None,\n",
    "        init_magnitudes=None,\n",
    "        stumble_segments=[\"Tibia\", \"Tarsus1\", \"Tarsus2\"],\n",
    "        stumbling_force_threshold=-1,\n",
    "        correction_vectors=_default_correction_vectors,\n",
    "        correction_rates=_default_correction_rates,\n",
    "        amplitude_range=(-0.5, 1.5),\n",
    "        seed=0,\n",
    "        **kwargs,\n",
    "    ):\n",
    "        # Initialize core NMF simulation\n",
    "        super().__init__(**kwargs)\n",
    "\n",
    "        ...\n",
    "```"
   ]
  },
  {
   "cell_type": "markdown",
   "metadata": {},
   "source": [
    "We can save the arguments as class attributes:\n",
    "\n",
    "```Python\n",
    "        ...\n",
    "        \n",
    "        if preprogrammed_steps is None:\n",
    "            preprogrammed_steps = PreprogrammedSteps()\n",
    "        self.preprogrammed_steps = preprogrammed_steps\n",
    "        self.intrinsic_freqs = intrinsic_freqs\n",
    "        self.intrinsic_amps = intrinsic_amps\n",
    "        self.phase_biases = phase_biases\n",
    "        self.coupling_weights = coupling_weights\n",
    "        self.convergence_coefs = convergence_coefs\n",
    "        self.stumble_segments = stumble_segments\n",
    "        self.stumbling_force_threshold = stumbling_force_threshold\n",
    "        self.correction_vectors = correction_vectors\n",
    "        self.correction_rates = correction_rates\n",
    "        self.amplitude_range = amplitude_range\n",
    "        self.draw_corrections = draw_corrections\n",
    "\n",
    "        ...\n",
    "```"
   ]
  },
  {
   "cell_type": "markdown",
   "metadata": {},
   "source": [
    "Next, we need to override the action space of `NeuroMechFly`. This is done by defining a new Gym space object. Gym provides an [interface for various space types](https://gymnasium.farama.org/api/spaces/). An non-exhaustive list includes `Box` for a possibly-boundex box in $\\mathbb{R}^n$, `Discrete` for a finite set of options, `Text` for text, and various [composite spaces](https://gymnasium.farama.org/api/spaces/composite/) such as `Dict`, `Tuple`, `Sequence`, `Graph`. Here, we will define the descending space as a `Box` space. We won't change the observation space definitation since we will return `NeuroMechFly`'s observation as is:\n",
    "\n",
    "```Python\n",
    "        ...\n",
    "\n",
    "        # Define action and observation spaces\n",
    "        self.action_space = spaces.Box(*amplitude_range, shape=(2,))\n",
    "\n",
    "        ...\n",
    "```"
   ]
  },
  {
   "cell_type": "markdown",
   "metadata": {},
   "source": [
    "Then, we will initialize the CPG network that we defined [in the CPG tutorial](https://neuromechfly.org/tutorials/cpg_controller.html):\n",
    "\n",
    "```Python\n",
    "        ...\n",
    "        \n",
    "        # Initialize CPG network\n",
    "        self.cpg_network = CPGNetwork(\n",
    "            timestep=self.sim_params.timestep,\n",
    "            intrinsic_freqs=intrinsic_freqs,\n",
    "            intrinsic_amps=intrinsic_amps,\n",
    "            coupling_weights=coupling_weights,\n",
    "            phase_biases=phase_biases,\n",
    "            convergence_coefs=convergence_coefs,\n",
    "            seed=seed,\n",
    "        )\n",
    "        self.cpg_network.reset(init_phases, init_magnitudes)\n",
    "\n",
    "        ...\n",
    "```"
   ]
  },
  {
   "cell_type": "markdown",
   "metadata": {},
   "source": [
    "We will then initialize variables tracking the retraction and stumbling correction amounts as we did in the [hybrid controller tutorial](https://neuromechfly.org/tutorials/hybrid_controller.html):\n",
    "\n",
    "```Python\n",
    "        ...\n",
    "\n",
    "        # Initialize variables tracking the correction amount\n",
    "        self.retraction_correction = np.zeros(6)\n",
    "        self.stumbling_correction = np.zeros(6)\n",
    "\n",
    "        ...\n",
    "```"
   ]
  },
  {
   "cell_type": "markdown",
   "metadata": {},
   "source": [
    "Finally, we will find the contact sensors for stumbling detection as we did before. This time, we define it as a method of our new class:\n",
    "\n",
    "```Python\n",
    "    def _find_stumbling_sensor_indices(self):\n",
    "        stumbling_sensors = {leg: [] for leg in self.preprogrammed_steps.legs}\n",
    "        for i, sensor_name in enumerate(self.contact_sensor_placements):\n",
    "            leg = sensor_name.split(\"/\")[1][:2]  # sensor_name: eg. \"Animat/LFTarsus1\"\n",
    "            segment = sensor_name.split(\"/\")[1][2:]\n",
    "            if segment in self.stumble_segments:\n",
    "                stumbling_sensors[leg].append(i)\n",
    "        stumbling_sensors = {k: np.array(v) for k, v in stumbling_sensors.items()}\n",
    "        if any(\n",
    "            v.size != len(self.stumble_segments) for v in stumbling_sensors.values()\n",
    "        ):\n",
    "            raise RuntimeError(\n",
    "                \"Contact detection must be enabled for all tibia, tarsus1, and tarsus2 \"\n",
    "                \"segments for stumbling detection.\"\n",
    "            )\n",
    "        return stumbling_sensors\n",
    "```\n",
    "\n",
    "... and we can all it in `__init__`. This concludes the definition of our `__init__` method:\n",
    "\n",
    "```Python\n",
    "        ...\n",
    "        \n",
    "        # Find stumbling sensors\n",
    "        self.stumbling_sensors = self._find_stumbling_sensor_indices()\n",
    "```"
   ]
  },
  {
   "cell_type": "markdown",
   "metadata": {},
   "source": [
    "Next, we shall define the `reset` method of our `HybridTurningController` class. This involves resetting the underlying `NeuroMechFly` simulation — as before, we will call `super().reset(...)` to drop in the reset method of the parent class. Then, we will reset the CPG network and the stumbling amounts. Note that the `**kwargs` argument is required to fully comply with the Gym API. In general, this gives the user more flexibility to pass additional arguments when initializing the Gym environment.\n",
    "\n",
    "```Python\n",
    "    def reset(self, seed=None, init_phases=None, init_magnitudes=None, **kwargs):\n",
    "        obs, info = super().reset(seed=seed)\n",
    "        self.cpg_network.random_state = np.random.RandomState(seed)\n",
    "        self.cpg_network.reset(init_phases, init_magnitudes)\n",
    "        self.retraction_correction = np.zeros(6)\n",
    "        self.stumbling_correction = np.zeros(6)\n",
    "        return obs, info\n",
    "```"
   ]
  },
  {
   "cell_type": "markdown",
   "metadata": {},
   "source": [
    "Now, we are ready to implement the most important `step` method. We start by updating the intrinsic amplitudes and frequencies of the CPGs as formulated above:\n",
    "\n",
    "```Python\n",
    "    def step(self, action):\n",
    "        \"\"\"Step the simulation forward one timestep.\n",
    "        \n",
    "        Parameters\n",
    "        ----------\n",
    "        action : np.ndarray\n",
    "            Array of shape (2,) containing descending signal encoding\n",
    "            turning.\n",
    "        \"\"\"\n",
    "        # update CPG parameters\n",
    "        amps = np.repeat(np.abs(action[:, np.newaxis]), 3, axis=1).flatten()\n",
    "        freqs = self.intrinsic_freqs.copy()\n",
    "        freqs[:3] *= 1 if action[0] > 0 else -1\n",
    "        freqs[3:] *= 1 if action[1] > 0 else -1\n",
    "        self.cpg_network.intrinsic_amps = amps\n",
    "        self.cpg_network.intrinsic_freqs = freqs\n",
    "```"
   ]
  },
  {
   "cell_type": "markdown",
   "metadata": {},
   "source": [
    "We will once again use `super()` to call the `get_observation` method of the parent `NeuroMechFly` class:\n",
    "\n",
    "```Python\n",
    "        ...\n",
    "\n",
    "        # get current observation\n",
    "        obs = super().get_observation()\n",
    "        \n",
    "        ...\n",
    "```"
   ]
  },
  {
   "cell_type": "markdown",
   "metadata": {},
   "source": [
    "Next, we check whether the condition is met for the retraction on any leg. To do this, we define a helper method:\n",
    "\n",
    "```Python\n",
    "    def _retraction_rule_find_leg(self, obs):\n",
    "        \"\"\"Returns the index of the leg that needs to be retracted, or None\n",
    "        if none applies.\"\"\"\n",
    "        end_effector_z_pos = obs[\"fly\"][0][2] - obs[\"end_effectors\"][:, 2]\n",
    "        end_effector_z_pos_sorted_idx = np.argsort(end_effector_z_pos)\n",
    "        end_effector_z_pos_sorted = end_effector_z_pos[end_effector_z_pos_sorted_idx]\n",
    "        if end_effector_z_pos_sorted[-1] > end_effector_z_pos_sorted[-3] + 0.05:\n",
    "            leg_to_correct_retraction = end_effector_z_pos_sorted_idx[-1]\n",
    "        else:\n",
    "            leg_to_correct_retraction = None\n",
    "        return leg_to_correct_retraction\n",
    "```\n",
    "\n",
    "... and call it in the `step` method:\n",
    "\n",
    "```Python\n",
    "        ...\n",
    "\n",
    "        # Retraction rule: is any leg stuck in a gap and needs to be retracted?\n",
    "        leg_to_correct_retraction = self._retraction_rule_find_leg(obs)\n",
    "\n",
    "        ...\n",
    "```"
   ]
  },
  {
   "cell_type": "markdown",
   "metadata": {},
   "source": [
    "Next, we can step the CPG:\n",
    "\n",
    "```Python\n",
    "        ...\n",
    "        \n",
    "        self.cpg_network.step()\n",
    "\n",
    "        ...\n",
    "```"
   ]
  },
  {
   "cell_type": "markdown",
   "metadata": {},
   "source": [
    "Then, we write a loop to go through each of the legs. In this loop, we update the correction amount for both the retraction rule and the stumbling rule. As before, we assign the retraction rule priority. We then calculate the target joint angles using the preprogrammed step class and decide whether adhesion should be turned off for swinging:\n",
    "\n",
    "```Python\n",
    "        ...\n",
    "        \n",
    "        joints_angles = []\n",
    "        adhesion_onoff = []\n",
    "        for i, leg in enumerate(self.preprogrammed_steps.legs):\n",
    "            # update retraction correction amounts\n",
    "            self.retraction_correction[i] = self._update_correction_amount(\n",
    "                condition=(i == leg_to_correct_retraction),\n",
    "                curr_amount=self.retraction_correction[i],\n",
    "                correction_rates=self.correction_rates[\"retraction\"],\n",
    "                viz_segment=f\"{leg}Tibia\" if self.draw_corrections else None,\n",
    "            )\n",
    "            # update stumbling correction amounts\n",
    "            self.stumbling_correction[i] = self._update_correction_amount(\n",
    "                condition=self._stumbling_rule_check_condition(obs, leg),\n",
    "                curr_amount=self.stumbling_correction[i],\n",
    "                correction_rates=self.correction_rates[\"stumbling\"],\n",
    "                viz_segment=f\"{leg}Femur\" if self.draw_corrections else None,\n",
    "            )\n",
    "            # get net correction amount\n",
    "            net_correction = self._get_net_correction(\n",
    "                self.retraction_correction[i], self.stumbling_correction[i]\n",
    "            )\n",
    "\n",
    "            # get target angles from CPGs and apply correction\n",
    "            my_joints_angles = self.preprogrammed_steps.get_joint_angles(\n",
    "                leg,\n",
    "                self.cpg_network.curr_phases[i],\n",
    "                self.cpg_network.curr_magnitudes[i],\n",
    "            )\n",
    "            my_joints_angles += net_correction * self.correction_vectors[leg[1]]\n",
    "            joints_angles.append(my_joints_angles)\n",
    "\n",
    "            # get adhesion on/off signal\n",
    "            my_adhesion_onoff = self.preprogrammed_steps.get_adhesion_onoff(\n",
    "                leg, self.cpg_network.curr_phases[i]\n",
    "            )\n",
    "            adhesion_onoff.append(my_adhesion_onoff)\n",
    "\n",
    "        ...\n",
    "```\n",
    "\n",
    "This requires three helper methods:\n",
    "\n",
    "```Python\n",
    "    def _stumbling_rule_check_condition(self, obs, leg):\n",
    "        \"\"\"Return True if the leg is stumbling, False otherwise.\"\"\"\n",
    "        # update stumbling correction amounts\n",
    "        contact_forces = obs[\"contact_forces\"][self.stumbling_sensors[leg], :]\n",
    "        fly_orientation = obs[\"fly_orientation\"]\n",
    "        # force projection should be negative if against fly orientation\n",
    "        force_proj = np.dot(contact_forces, fly_orientation)\n",
    "        return (force_proj < self.stumbling_force_threshold).any()\n",
    "\n",
    "    def _get_net_correction(self, retraction_correction, stumbling_correction):\n",
    "        \"\"\"Retraction correction has priority.\"\"\"\n",
    "        if retraction_correction > 0:\n",
    "            return retraction_correction\n",
    "        return stumbling_correction\n",
    "\n",
    "    def _update_correction_amount(\n",
    "        self, condition, curr_amount, correction_rates, viz_segment\n",
    "    ):\n",
    "        \"\"\"Update correction amount and color code leg segment.\n",
    "        \n",
    "        Parameters\n",
    "        ----------\n",
    "        condition : bool\n",
    "            Whether the correction condition is met.\n",
    "        curr_amount : float\n",
    "            Current correction amount.\n",
    "        correction_rates : Tuple[float, float]\n",
    "            Correction rates for increment and decrement.\n",
    "        viz_segment : str\n",
    "            Name of the segment to color code. If None, no color coding is\n",
    "            done.\n",
    "        \n",
    "        Returns\n",
    "        -------\n",
    "        float\n",
    "            Updated correction amount.\n",
    "        \"\"\"\n",
    "        if condition:  # lift leg\n",
    "            increment = correction_rates[0] * self.timestep\n",
    "            new_amount = curr_amount + increment\n",
    "            color = (0, 1, 0, 1)\n",
    "        else:  # condition no longer met, lower leg\n",
    "            decrement = correction_rates[1] * self.timestep\n",
    "            new_amount = max(0, curr_amount - decrement)\n",
    "            color = (1, 0, 0, 1)\n",
    "        if viz_segment is not None:\n",
    "            self.change_segment_color(viz_segment, color)\n",
    "        return new_amount\n",
    "```"
   ]
  },
  {
   "cell_type": "markdown",
   "metadata": {},
   "source": [
    "Finally, we build the action dictionary (recall from our discussion on Gym spaces above — this is a composite `Dict` space) and call the `step` method of the parent `NeuroMechFly` class using it. This concludes the definition of our `step` method.\n",
    "\n",
    "```Python\n",
    "        ...\n",
    "        \n",
    "        action = {\n",
    "            \"joints\": np.array(np.concatenate(joints_angles)),\n",
    "            \"adhesion\": np.array(adhesion_onoff).astype(int),\n",
    "        }\n",
    "        return super().step(action)\n",
    "```"
   ]
  },
  {
   "cell_type": "markdown",
   "metadata": {},
   "source": [
    "Let's import this class and instantiate it:"
   ]
  },
  {
   "cell_type": "code",
   "execution_count": 2,
   "metadata": {},
   "outputs": [],
   "source": [
    "from flygym.mujoco.examples.turning_controller import HybridTurningNMF\n",
    "\n",
    "run_time = 1\n",
    "timestep = 1e-4\n",
    "contact_sensor_placements = [\n",
    "    f\"{leg}{segment}\"\n",
    "    for leg in [\"LF\", \"LM\", \"LH\", \"RF\", \"RM\", \"RH\"]\n",
    "    for segment in [\"Tibia\", \"Tarsus1\", \"Tarsus2\", \"Tarsus3\", \"Tarsus4\", \"Tarsus5\"]\n",
    "]\n",
    "\n",
    "sim_params = Parameters(\n",
    "    timestep=1e-4,\n",
    "    render_mode=\"saved\",\n",
    "    render_camera=\"Animat/camera_top\",\n",
    "    render_playspeed=0.1,\n",
    "    enable_adhesion=True,\n",
    "    draw_adhesion=True,\n",
    "    actuator_kp=20,\n",
    ")\n",
    "\n",
    "nmf = HybridTurningNMF(\n",
    "    sim_params=sim_params,\n",
    "    contact_sensor_placements=contact_sensor_placements,\n",
    "    spawn_pos=(0, 0, 0.2),\n",
    ")"
   ]
  },
  {
   "cell_type": "markdown",
   "metadata": {},
   "source": [
    "In fact, we can use Gymnasium's `env_checker` utility to check if our `HybridTurningNMF` class fully complies with the Gym API. To do this, `env_checker` will reset our environment a few times with random parameters and step it with random actions. It will then check if the observations are as specified in the observation space definition. If no exception is raised, we are good."
   ]
  },
  {
   "cell_type": "code",
   "execution_count": 3,
   "metadata": {},
   "outputs": [
    {
     "name": "stderr",
     "output_type": "stream",
     "text": [
      "/opt/homebrew/Caskroom/miniforge/base/envs/flygym0.2/lib/python3.11/site-packages/gymnasium/utils/env_checker.py:247: UserWarning: \u001b[33mWARN: For Box action spaces, we recommend using a symmetric and normalized space (range=[-1, 1] or [0, 1]). See https://stable-baselines3.readthedocs.io/en/master/guide/rl_tips.html for more information.\u001b[0m\n",
      "  logger.warn(\n",
      "/opt/homebrew/Caskroom/miniforge/base/envs/flygym0.2/lib/python3.11/site-packages/gymnasium/utils/env_checker.py:225: UserWarning: \u001b[33mWARN: A Box observation space minimum value is -infinity. This is probably too low.\u001b[0m\n",
      "  logger.warn(\n",
      "/opt/homebrew/Caskroom/miniforge/base/envs/flygym0.2/lib/python3.11/site-packages/gymnasium/utils/env_checker.py:229: UserWarning: \u001b[33mWARN: A Box observation space maximum value is -infinity. This is probably too high.\u001b[0m\n",
      "  logger.warn(\n",
      "/opt/homebrew/Caskroom/miniforge/base/envs/flygym0.2/lib/python3.11/site-packages/gymnasium/utils/env_checker.py:321: UserWarning: \u001b[33mWARN: Not able to test alternative render modes due to the environment not having a spec. Try instantialising the environment through gymnasium.make\u001b[0m\n",
      "  logger.warn(\n"
     ]
    }
   ],
   "source": [
    "check_env(nmf)"
   ]
  },
  {
   "cell_type": "markdown",
   "metadata": {},
   "source": [
    "Let's run the simulation, applying a steady [1.2, 0.2] turn throughout. We will also record the magnitude of the CPGs over time."
   ]
  },
  {
   "cell_type": "code",
   "execution_count": 4,
   "metadata": {},
   "outputs": [
    {
     "name": "stderr",
     "output_type": "stream",
     "text": [
      "100%|██████████| 10000/10000 [00:36<00:00, 272.11it/s]\n"
     ]
    }
   ],
   "source": [
    "magnitude_hist = []\n",
    "obs, info = nmf.reset(seed=0)\n",
    "for i in trange(int(run_time / nmf.sim_params.timestep)):\n",
    "    curr_time = i * nmf.sim_params.timestep\n",
    "    action = np.array([1.2, 0.2])\n",
    "    obs, reward, terminated, truncated, info = nmf.step(action)\n",
    "    nmf.render()\n",
    "    magnitude_hist.append(nmf.cpg_network.curr_magnitudes.copy())"
   ]
  },
  {
   "cell_type": "markdown",
   "metadata": {},
   "source": [
    "Let's visualize the time series of the CPG magnitudes. As expected, three CPGs converge to a faster step while the others converge to a smaller one."
   ]
  },
  {
   "cell_type": "code",
   "execution_count": 5,
   "metadata": {},
   "outputs": [
    {
     "data": {
      "image/png": "[encoded data removed]",
      "text/plain": [
       "<Figure size 400x300 with 1 Axes>"
      ]
     },
     "metadata": {},
     "output_type": "display_data"
    }
   ],
   "source": [
    "t = np.arange(0, run_time, nmf.sim_params.timestep)\n",
    "fig, ax = plt.subplots(1, 1, figsize=(4, 3), tight_layout=True)\n",
    "for ts in np.array(magnitude_hist).T:\n",
    "    ax.plot(t, ts)\n",
    "ax.set_xlabel(\"Time (s)\")\n",
    "ax.set_ylabel(\"CPG magnitude\")\n",
    "fig.savefig(\"./outputs/turning_cpg_magnitude.png\")"
   ]
  },
  {
   "cell_type": "markdown",
   "metadata": {},
   "source": [
    "Finally, let's take a look at the video:"
   ]
  },
  {
   "cell_type": "code",
   "execution_count": 6,
   "metadata": {},
   "outputs": [],
   "source": [
    "nmf.save_video(\"./outputs/hybrid_turning.mp4\")"
   ]
  }
 ],
 "metadata": {
  "kernelspec": {
   "display_name": "flygym0.2",
   "language": "python",
   "name": "python3"
  },
  "language_info": {
   "codemirror_mode": {
    "name": "ipython",
    "version": 3
   },
   "file_extension": ".py",
   "mimetype": "text/x-python",
   "name": "python",
   "nbconvert_exporter": "python",
   "pygments_lexer": "ipython3",
   "version": "3.11.5"
  },
  "orig_nbformat": 4
 },
 "nbformat": 4,
 "nbformat_minor": 2
}
