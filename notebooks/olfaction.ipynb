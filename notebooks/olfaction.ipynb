{
 "cells": [
  {
   "cell_type": "markdown",
   "metadata": {},
   "source": [
    "# Olfaction\n",
    "\n",
    "**Summary:** In this tutorial, we will implement a simple controller for odor-guided taxis.\n",
    "\n",
    "In the [previous tutorial](https://neuromechfly.org/tutorials/vision.html), we covered how one can simulate the visual experience of the fly simulation. In addition to vision, we also made it possible for our model to detect odors emitted by objects in the simulation environment. The olfactory system in _Drosophila_ consists of specialized olfactory sensory neurons (OSNs) located in the antennae and maxillary palps. These detect specific odorant molecules and convey this information to the brain’s antennal lobe, where their signals are further processed. This is shown in the figure below (left, source: [Martin et al, 2013](https://doi.org/10.1002/ar.22747)) We emulated peripheral olfaction by attaching virtual odor sensors to the antennae and maxillary palps of our biomechanical model, as shown in the figure (right). The user has the option of configuring additional sensors at more precise locations on these olfactory organs. These virtual sensors can detect odor intensities across a multi-dimensional space that can be thought of as representing, for example, the concentrations of monomolecular chemicals sensed by OSNs in the antennae, or the intensities of composite odors co-activating numerous projection neurons in the antennal lobe.\n",
    "\n",
    "<img src=\"https://github.com/NeLy-EPFL/_media/blob/main/flygym/olfaction.png?raw=true\" alt=\"rule_based\" width=\"600\"/>"
   ]
  },
  {
   "cell_type": "markdown",
   "metadata": {},
   "source": [
    "## Odor arena\n",
    "\n",
    "To demonstrate odor sensing, let's create an environment with one attractive odor source and two aversive odor sources. The dimension of this odor space is 2 (attractive, aversive) despite the number of odor sources being 3. The odor sources share a peak intensity of 1. We will color the attractive odor source orange and the aversive odor sources blue."
   ]
  },
  {
   "cell_type": "code",
   "execution_count": 1,
   "metadata": {},
   "outputs": [],
   "source": [
    "import numpy as np\n",
    "\n",
    "# Odor source: array of shape (num_odor_sources, 3) - xyz coords of odor sources\n",
    "odor_source = np.array([[24, 0, 1.5], [8, -4, 1.5], [16, 4, 1.5]])\n",
    "\n",
    "# Peak intensities: array of shape (num_odor_sources, odor_dimesions)\n",
    "# For each odor source, if the intensity is (x, 0) then the odor is in the 1st dimension\n",
    "# (in this case attractive). If it's (0, x) then it's in the 2nd dimension (in this case\n",
    "# aversive)\n",
    "peak_intensity = np.array([[1, 0], [0, 1], [0, 1]])\n",
    "\n",
    "# Marker colors: array of shape (num_odor_sources, 4) - RGBA values for each marker,\n",
    "# normalized to [0, 1]\n",
    "marker_colors = [[255, 127, 14], [31, 119, 180], [31, 119, 180]]\n",
    "marker_colors = np.array([[*np.array(color) / 255, 1] for color in marker_colors])\n",
    "\n",
    "odor_dimesions = len(peak_intensity[0])"
   ]
  },
  {
   "cell_type": "markdown",
   "metadata": {},
   "source": [
    "Let's create the arena using these parameters. The detailed documentation of the `OdorArena` class can be found in the [API reference](https://neuromechfly.org/api_ref/arena.html#flygym.mujoco.arena.OdorArena). Its implementation is beyond the scope of this tutorial but can be found [here](https://github.com/NeLy-EPFL/flygym/blob/main/flygym/mujoco/arena/sensory_environment.py)."
   ]
  },
  {
   "cell_type": "code",
   "execution_count": 2,
   "metadata": {},
   "outputs": [],
   "source": [
    "from flygym.mujoco.arena import OdorArena\n",
    "\n",
    "arena = OdorArena(\n",
    "    odor_source=odor_source,\n",
    "    peak_intensity=peak_intensity,\n",
    "    diffuse_func=lambda x: x**-2,\n",
    "    marker_colors=marker_colors,\n",
    "    marker_size=0.3,\n",
    ")"
   ]
  },
  {
   "cell_type": "markdown",
   "metadata": {},
   "source": [
    "Let’s place our fly in the arena. As before, we will run a few iterations to allow it to stand on the ground in a stable manner."
   ]
  },
  {
   "cell_type": "code",
   "execution_count": 3,
   "metadata": {},
   "outputs": [
    {
     "data": {
      "image/png": "[encoded data removed]",
      "text/plain": [
       "<Figure size 500x400 with 1 Axes>"
      ]
     },
     "metadata": {},
     "output_type": "display_data"
    }
   ],
   "source": [
    "import matplotlib.pyplot as plt\n",
    "from flygym.mujoco import Parameters\n",
    "from flygym.mujoco.examples.turning_controller import HybridTurningNMF\n",
    "\n",
    "\n",
    "contact_sensor_placements = [\n",
    "    f\"{leg}{segment}\"\n",
    "    for leg in [\"LF\", \"LM\", \"LH\", \"RF\", \"RM\", \"RH\"]\n",
    "    for segment in [\"Tibia\", \"Tarsus1\", \"Tarsus2\", \"Tarsus3\", \"Tarsus4\", \"Tarsus5\"]\n",
    "]\n",
    "sim_params = Parameters(\n",
    "    timestep=1e-4,\n",
    "    render_mode=\"saved\",\n",
    "    render_playspeed=0.5,\n",
    "    render_window_size=(800, 608),\n",
    "    enable_olfaction=True,\n",
    "    enable_adhesion=True,\n",
    "    draw_adhesion=False,\n",
    "    render_camera=\"birdeye_cam\",\n",
    ")\n",
    "sim = HybridTurningNMF(\n",
    "    sim_params=sim_params,\n",
    "    arena=arena,\n",
    "    spawn_pos=(0, 0, 0.2),\n",
    "    contact_sensor_placements=contact_sensor_placements,\n",
    ")\n",
    "for i in range(500):\n",
    "    sim.step(np.zeros(2))\n",
    "    sim.render()\n",
    "fig, ax = plt.subplots(1, 1, figsize=(5, 4), tight_layout=True)\n",
    "ax.imshow(sim._frames[-1])\n",
    "ax.axis(\"off\")\n",
    "fig.savefig(\"./outputs/olfaction_env.png\")"
   ]
  },
  {
   "cell_type": "markdown",
   "metadata": {},
   "source": [
    "## Controller for odor taxis\n",
    "\n",
    "Let's design a simple hand-tuned controller for odor-guided taxis. We start by calculating the left-right asymmetry of the odor intensity $I$ for each odor $o$:\n",
    "\n",
    "$$\n",
    "\\Delta I_o = \\frac{I_\\text{left,o} - I_\\text{right,o}}{(I_\\text{left,o} + I_\\text{right,o}) / 2}\n",
    "$$\n",
    "\n",
    "Then, we multiply $\\Delta I_o$ by a gain $\\gamma_o$ for each odor dimension and take the sum $s$. Attractive and aversive odors will have different signs in their gains.\n",
    "\n",
    "$$\n",
    "s = \\sum_{o} \\gamma_o \\Delta I_o\n",
    "$$\n",
    "\n",
    "We transform $s$ nonlinearly to avoid overly drastic turns when the asymmetry is subtle and to crop it within the range [0, 1). This gives us a turning bias $b$:\n",
    "\n",
    "$$\n",
    "b = \\tanh(s^2)\n",
    "$$\n",
    "\n",
    "Finally, we modulate the descending signal $\\delta$ based on $b$ and the sign of $s$:\n",
    "\n",
    "$$\n",
    "\\delta_\\text{left} = \n",
    "    \\begin{cases}\n",
    "    \\delta_\\text{max} & \\text{if } s>0\\\\\n",
    "    \\delta_\\text{max} - b(\\delta_\\text{max} - \\delta_\\text{min})  & \\text{otherwise}\n",
    "    \\end{cases}\n",
    "    \\qquad\n",
    "    \\delta_\\text{right} = \n",
    "    \\begin{cases}\n",
    "    \\delta_\\text{max} - b(\\delta_\\text{max} - \\delta_\\text{min}) & \\text{if } s>0\\\\\n",
    "    \\delta_\\text{max}  & \\text{otherwise}\n",
    "    \\end{cases}\n",
    "$$\n",
    "\n",
    "where, $\\delta_\\text{min}$, $\\delta_\\text{max}$ define the range of the descending signal. Here, we will use the following parameters:\n",
    "\n",
    "- $\\gamma_\\text{attractive} = -500$ (negative ipsilateral gain leads to positive taxis)\n",
    "- $\\gamma_\\text{aversive} = 80$ (positive ipsilateral gain leads to negative taxis)\n",
    "- $\\delta_\\text{min} = 0.2$\n",
    "- $\\delta_\\text{max} = 1$\n",
    "\n",
    "As before, we will recalculate the steering signal every 0.05 seconds. Let's implement this in Python:"
   ]
  },
  {
   "cell_type": "code",
   "execution_count": 4,
   "metadata": {},
   "outputs": [
    {
     "name": "stderr",
     "output_type": "stream",
     "text": [
      " 48%|████▊     | 48/100 [00:54<00:59,  1.14s/it]\n"
     ]
    }
   ],
   "source": [
    "from tqdm import trange\n",
    "\n",
    "attractive_gain = -500\n",
    "aversive_gain = 80\n",
    "decision_interval = 0.05\n",
    "run_time = 5\n",
    "num_decision_steps = int(run_time / decision_interval)\n",
    "physics_steps_per_decision_step = int(decision_interval / sim_params.timestep)\n",
    "\n",
    "obs_hist = []\n",
    "odor_history = []\n",
    "obs, _ = sim.reset()\n",
    "for i in trange(num_decision_steps):\n",
    "    attractive_intensities = np.average(\n",
    "        obs[\"odor_intensity\"][0, :].reshape(2, 2), axis=0, weights=[9, 1]\n",
    "    )\n",
    "    aversive_intensities = np.average(\n",
    "        obs[\"odor_intensity\"][1, :].reshape(2, 2), axis=0, weights=[10, 0]\n",
    "    )\n",
    "    attractive_bias = (\n",
    "        attractive_gain\n",
    "        * (attractive_intensities[0] - attractive_intensities[1])\n",
    "        / attractive_intensities.mean()\n",
    "    )\n",
    "    aversive_bias = (\n",
    "        aversive_gain\n",
    "        * (aversive_intensities[0] - aversive_intensities[1])\n",
    "        / aversive_intensities.mean()\n",
    "    )\n",
    "    effective_bias = aversive_bias + attractive_bias\n",
    "    effective_bias_norm = np.tanh(effective_bias**2) * np.sign(effective_bias)\n",
    "    assert np.sign(effective_bias_norm) == np.sign(effective_bias)\n",
    "\n",
    "    control_signal = np.ones((2,))\n",
    "    side_to_modulate = int(effective_bias_norm > 0)\n",
    "    modulation_amount = np.abs(effective_bias_norm) * 0.8\n",
    "    control_signal[side_to_modulate] -= modulation_amount\n",
    "\n",
    "    for j in range(physics_steps_per_decision_step):\n",
    "        obs, _, _, _, _ = sim.step(control_signal)\n",
    "        rendered_img = sim.render()\n",
    "        if rendered_img is not None:\n",
    "            # record odor intensity too for video\n",
    "            odor_history.append(obs[\"odor_intensity\"])\n",
    "        obs_hist.append(obs)\n",
    "\n",
    "    # Stop when the fly is within 2mm of the attractive odor source\n",
    "    if np.linalg.norm(obs[\"fly\"][0, :2] - odor_source[0, :2]) < 2:\n",
    "        break"
   ]
  },
  {
   "cell_type": "markdown",
   "metadata": {},
   "source": [
    "We can visualize the fly trajectory:"
   ]
  },
  {
   "cell_type": "code",
   "execution_count": 5,
   "metadata": {},
   "outputs": [
    {
     "data": {
      "image/png": "[encoded data removed]",
      "text/plain": [
       "<Figure size 500x400 with 1 Axes>"
      ]
     },
     "metadata": {},
     "output_type": "display_data"
    }
   ],
   "source": [
    "fly_pos_hist = np.array([obs[\"fly\"][0, :2] for obs in obs_hist])\n",
    "fig, ax = plt.subplots(1, 1, figsize=(5, 4), tight_layout=True)\n",
    "ax.scatter(\n",
    "    [odor_source[0, 0]],\n",
    "    [odor_source[0, 1]],\n",
    "    marker=\"o\",\n",
    "    color=\"tab:orange\",\n",
    "    s=50,\n",
    "    label=\"Attractive\",\n",
    ")\n",
    "ax.scatter(\n",
    "    [odor_source[1, 0]],\n",
    "    [odor_source[1, 1]],\n",
    "    marker=\"o\",\n",
    "    color=\"tab:blue\",\n",
    "    s=50,\n",
    "    label=\"Aversive\",\n",
    ")\n",
    "ax.scatter([odor_source[2, 0]], [odor_source[2, 1]], marker=\"o\", color=\"tab:blue\", s=50)\n",
    "ax.plot(fly_pos_hist[:, 0], fly_pos_hist[:, 1], color=\"k\", label=\"Fly trajectory\")\n",
    "ax.set_aspect(\"equal\")\n",
    "ax.set_xlim(-1, 25)\n",
    "ax.set_ylim(-5, 5)\n",
    "ax.set_xlabel(\"x (mm)\")\n",
    "ax.set_ylabel(\"y (mm)\")\n",
    "ax.legend(ncols=3, loc=\"lower center\", bbox_to_anchor=(0.5, -0.6))\n",
    "fig.savefig(\"./outputs/odor_taxis_trajectory.png\")"
   ]
  },
  {
   "cell_type": "markdown",
   "metadata": {},
   "source": [
    "We can also generate the video:"
   ]
  },
  {
   "cell_type": "code",
   "execution_count": 6,
   "metadata": {},
   "outputs": [],
   "source": [
    "sim.save_video(\"./outputs/odor_taxis.mp4\")"
   ]
  }
 ],
 "metadata": {
  "kernelspec": {
   "display_name": "flygym0.2",
   "language": "python",
   "name": "python3"
  },
  "language_info": {
   "codemirror_mode": {
    "name": "ipython",
    "version": 3
   },
   "file_extension": ".py",
   "mimetype": "text/x-python",
   "name": "python",
   "nbconvert_exporter": "python",
   "pygments_lexer": "ipython3",
   "version": "3.11.7"
  }
 },
 "nbformat": 4,
 "nbformat_minor": 2
}
