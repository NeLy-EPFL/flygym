{
 "cells": [
  {
   "cell_type": "markdown",
   "metadata": {},
   "source": [
    "# Overcome complex terrain with a hybrid controller\n",
    "\n",
    "**Authors:** Victor Alfred Stimpfling, Sibo Wang-Chen\n",
    "\n",
    "**Note:** The code presented in this notebook has been simplified and restructured for display in a notebook format. A more complete and better structured implementation can be found in the [examples folder of the FlyGym repository on GitHub](https://github.com/NeLy-EPFL/flygym/tree/main/flygym/examples/).\n",
    "\n",
    "**Summary**: In this tutorial, we will illustrate how CPG- and rule-based controllers fail to produce robust locomotion over complex terrain. We will then build a combined CPG and sensory feedback-based hybrid controller that overcomes these deficits and generates more robust walking.\n",
    "\n",
    "In the *[Controlling locomotion with CPGs](https://neuromechfly.org/tutorials/cpg_controller.html)* and *[Rule-based controller](https://neuromechfly.org/tutorials/rule_based_controller.html)* tutorials, we have demonstrated how different control strategies can lead to effective walking over simple, flat terrain. However, in the real world animals locomote over rugged surfaces. To achieve this, animals likely use a combination of CPGs and sensory feedback to produce agile, adaptive body kinematics. To explore how sensory feedback can facilitate locomotion over rugged surfaces, we have developed three terrain types that complement our baseline smooth terrain: one with gaps perpendicular to the initial heading of the fly, one with blocks of variable height, and one that is a mixture of these two. Using these new terrain types, we will now demonstrate how one can examine the efficacy of different bioinspired locomotor control strategies."
   ]
  },
  {
   "cell_type": "markdown",
   "metadata": {},
   "targeted_fly_names
    "## Defining the arena\n",
    "\n",
    "The environment that the fly is situated in is defined by the Arena class. So far, we have been using the default terrain: ``FlatTerrain``. Some other arenas are also included in FlyGym package, including ``GappedTerrain``, ``BlocksTerrain``, and ``MixedTerrain``. In future tutorials, we will introduce more arenas with sensory (visual, olfactory) features. The user can define custom arenas by inheriting from the ``flygym.mujoco.arena.BaseArena`` abstract class.\n",
    "\n",
    "Let's start by defining a couple of terrains:"
   ]
  },targeted_fly_names
  {targeted_fly_names
   "cell_type": "code",
   "execution_count": 1,
   "metadata": {},
   "outputs": [],
   "source": [
    "from flygym.arena import FlatTerrain, GappedTerrain, BlocksTerrain, MixedTerrain\n",
    "\n",
    "\n",
    "def get_arena(arena_type):\n",
    "    if arena_type == \"flat\":\n",
    "        return FlatTerrain()\n",
    "    elif arena_type == \"gapped\":\n",
    "        return GappedTerrain()\n",
    "    elif arena_type == \"blocks\":\n",
    "        return BlocksTerrain()\n",
    "    elif arena_type == \"mixed\":\n",
    "        return MixedTerrain()\n",
    "    else:\n",
    "        raise ValueError(f\"Unknown arena type: {arena_type}\")"
   ]
  },
  {
   "cell_type": "markdown",
   "metadata": {},
   "source": [
    "Let's put a fly into each of these terrains, run 0.01 seconds of the simulation so the fly can stabilize on the floor, and visualize how the fly looks while walking over these different terrain types:"
   ]
  },
  {
   "cell_type": "code",
   "execution_count": 2,
   "metadata": {},
   "outputs": [
    {
     "ename": "ImportError",
     "evalue": "cannot import name 'ZStabCamera' from 'flygym' (/Users/stimpfli/Desktop/flygym/flygym/__init__.py)",
     "output_type": "error",
     "traceback": [
      "\u001b[0;31m---------------------------------------------------------------------------\u001b[0m",
      "\u001b[0;31mImportError\u001b[0m                               Traceback (most recent call last)",
      "Cell \u001b[0;32mIn[2], line 4\u001b[0m\n\u001b[1;32m      2\u001b[0m \u001b[38;5;28;01mimport\u001b[39;00m \u001b[38;5;21;01mmatplotlib\u001b[39;00m\u001b[38;5;21;01m.\u001b[39;00m\u001b[38;5;21;01mpyplot\u001b[39;00m \u001b[38;5;28;01mas\u001b[39;00m \u001b[38;5;21;01mplt\u001b[39;00m\n\u001b[1;32m      3\u001b[0m \u001b[38;5;28;01mfrom\u001b[39;00m \u001b[38;5;21;01mtqdm\u001b[39;00m \u001b[38;5;28;01mimport\u001b[39;00m tqdm, trange\n\u001b[0;32m----> 4\u001b[0m \u001b[38;5;28;01mfrom\u001b[39;00m \u001b[38;5;21;01mflygym\u001b[39;00m \u001b[38;5;28;01mimport\u001b[39;00m Fly, ZStabCamera, SingleFlySimulation\n\u001b[1;32m      5\u001b[0m \u001b[38;5;28;01mfrom\u001b[39;00m \u001b[38;5;21;01mflygym\u001b[39;00m\u001b[38;5;21;01m.\u001b[39;00m\u001b[38;5;21;01mexamples\u001b[39;00m\u001b[38;5;21;01m.\u001b[39;00m\u001b[38;5;21;01mlocomotion\u001b[39;00m \u001b[38;5;28;01mimport\u001b[39;00m PreprogrammedSteps\n\u001b[1;32m      6\u001b[0m \u001b[38;5;28;01mfrom\u001b[39;00m \u001b[38;5;21;01mpathlib\u001b[39;00m \u001b[38;5;28;01mimport\u001b[39;00m Path\n",
      "\u001b[0;31mImportError\u001b[0m: cannot import name 'ZStabCamera' from 'flygym' (/Users/stimpfli/Desktop/flygym/flygym/__init__.py)"
     ]
    }
   ],
   "source": [
    "import numpy as np\n",
    "import matplotlib.pyplot as plt\n",
    "from tqdm import tqdm, trange\n",
    "from flygym import Fly, ZStabCamera, SingleFlySimulation\n",
    "from flygym.examples.locomotion import PreprogrammedSteps\n",
    "from pathlib import Path\n",
    "\n",
    "output_dir = Path(\"./outputs/hybrid_controller\")\n",
    "output_dir.mkdir(exist_ok=True, parents=True)\n",
    "\n",
    "preprogrammed_steps = PreprogrammedSteps()  # we will use the neutral pose from this\n",
    "\n",
    "fig, axs = plt.subplots(2, 2, figsize=(6, 6), tight_layout=True)\n",
    "terrain_types = [\"flat\", \"gapped\", \"blocks\", \"mixed\"]\n",
    "for i, terrain_type in tqdm(enumerate(terrain_types)):\n",
    "    ax = axs.flat[i]\n",
    "    terrain = get_arena(terrain_type)\n",
    "    # Initialize NeuroMechFly simulation\n",
    "    fly = Fly(\n",
    "        enable_adhesion=True,\n",
    "        draw_adhesion=True,\n",
    "        init_pose=\"stretch\",\n",
    "        control=\"position\",\n",
    "    )\n",
    "    cam = ZStabCamera(\n",
    "        attachment_point=fly.model.worldbody,\n",
    "        camera_name=\"camera_left\", attachment_name=fly.name,\n",
    "        targeted_flies_id=[fly.name], play_speed=0.1\n",
    "    )\n",
    "    sim = SingleFlySimulation(\n",
    "        fly=fly,\n",
    "        cameras=[cam],\n",
    "        timestep=1e-4,\n",
    "        arena=terrain,\n",
    "    )\n",
    "    sim.reset()\n",
    "    for _ in range(1):\n",
    "        action = {\n",
    "            \"joints\": preprogrammed_steps.default_pose,\n",
    "            \"adhesion\": np.ones(6, dtype=np.int32),\n",
    "        }\n",
    "        sim.step(action)\n",
    "        sim.render()\n",
    "    ax.imshow(sim.cameras[0]._frames[-1])\n",
    "    ax.axis(\"off\")\n",
    "    ax.set_title(f\"{terrain_type.title()} terrain\")\n",
    "\n",
    "fig.savefig(output_dir / \"complex_terrain_overview.png\")"
   ]
  },
  {
   "cell_type": "markdown",
   "metadata": {},
   "source": [
    "## Basic CPG- and rule-based controllers\n",
    "\n",
    "Do the CPG- and rule-based controllers work well over complex terrain? Let's run the simulation for 0.5 seconds using each of these controllers on each of the different terrain types:"
   ]
  },
  {
   "cell_type": "code",
   "execution_count": null,
   "metadata": {},
   "outputs": [
    {
     "name": "stdout",
     "output_type": "stream",
     "text": [
      "* Running CPG-based controller on flat terrain\n"
     ]
    },
    {
     "name": "stderr",
     "output_type": "stream",
     "text": [
      "100%|██████████| 10000/10000 [00:22<00:00, 453.73it/s]\n"
     ]
    },
    {
     "name": "stdout",
     "output_type": "stream",
     "text": [
      "Final x position: 13.6101 mm\n",
      "* Running CPG-based controller on gapped terrain\n"
     ]
    },
    {
     "name": "stderr",
     "output_type": "stream",
     "text": [
      "100%|██████████| 10000/10000 [01:29<00:00, 111.66it/s]\n"
     ]
    },
    {
     "name": "stdout",
     "output_type": "stream",
     "text": [
      "Final x position: 4.6389 mm\n",
      "* Running CPG-based controller on blocks terrain\n"
     ]
    },
    {
     "name": "stderr",
     "output_type": "stream",
     "text": [
      "100%|██████████| 10000/10000 [00:38<00:00, 259.46it/s]\n"
     ]
    },
    {
     "name": "stdout",
     "output_type": "stream",
     "text": [
      "Final x position: 5.3929 mm\n",
      "* Running CPG-based controller on mixed terrain\n"
     ]
    },
    {
     "name": "stderr",
     "output_type": "stream",
     "text": [
      " 99%|█████████▉| 9935/10000 [00:56<00:00, 120.32it/s]WARNING:absl:Nan, Inf or huge value in QACC at DOF 27. The simulation is unstable. Time = 0.9935.\n",
      " 99%|█████████▉| 9935/10000 [00:56<00:00, 176.05it/s]\n"
     ]
    },
    {
     "name": "stdout",
     "output_type": "stream",
     "text": [
      "Simulation failed with error: Physics state is invalid. Warning(s) raised: mjWARN_BADQACC\n",
      "Final x position: 0.0164 mm\n",
      "* Running Rule-based controller on flat terrain\n"
     ]
    },
    {
     "name": "stderr",
     "output_type": "stream",
     "text": [
      "100%|██████████| 10000/10000 [00:25<00:00, 397.44it/s]\n"
     ]
    },
    {
     "name": "stdout",
     "output_type": "stream",
     "text": [
      "Final x position: 6.1524 mm\n",
      "* Running Rule-based controller on gapped terrain\n"
     ]
    },
    {
     "name": "stderr",
     "output_type": "stream",
     "text": [
      "100%|██████████| 10000/10000 [01:18<00:00, 127.77it/s]\n"
     ]
    },
    {
     "name": "stdout",
     "output_type": "stream",
     "text": [
      "Final x position: 5.2449 mm\n",
      "* Running Rule-based controller on blocks terrain\n"
     ]
    },
    {
     "name": "stderr",
     "output_type": "stream",
     "text": [
      "100%|██████████| 10000/10000 [00:44<00:00, 225.95it/s]\n"
     ]
    },
    {
     "name": "stdout",
     "output_type": "stream",
     "text": [
      "Final x position: 1.5443 mm\n",
      "* Running Rule-based controller on mixed terrain\n"
     ]
    },
    {
     "name": "stderr",
     "output_type": "stream",
     "text": [
      "100%|██████████| 10000/10000 [00:54<00:00, 182.17it/s]\n"
     ]
    },
    {
     "name": "stdout",
     "output_type": "stream",
     "text": [
      "Final x position: 3.5968 mm\n"
     ]
    }
   ],
   "source": [
    "from flygym.examples.locomotion.cpg_controller import CPGNetwork, run_cpg_simulation\n",
    "from flygym.examples.locomotion.rule_based_controller import (\n",
    "    RuleBasedController,\n",
    "    construct_rules_graph,\n",
    "    run_rule_based_simulation,\n",
    ")\n",
    "from dm_control.rl.control import PhysicsError\n",
    "\n",
    "\n",
    "run_time = 1.0\n",
    "timestep = 1e-4\n",
    "\n",
    "for controller_name in [\"CPG-based\", \"Rule-based\"]:\n",
    "    for terrain_name in terrain_types:\n",
    "        print(f\"* Running {controller_name} controller on {terrain_name} terrain\")\n",
    "\n",
    "        terrain = get_arena(terrain_name)\n",
    "\n",
    "        # Initialize the simulation\n",
    "        fly = Fly(\n",
    "            enable_adhesion=True,\n",
    "            draw_adhesion=True,\n",
    "            init_pose=\"stretch\",\n",
    "            control=\"position\",\n",
    "        )\n",
    "        cam = ZStabCamera(\n",
    "            attachment_point=fly.model.worldbody,\n",
    "            camera_name=\"camera_left\", attachment_name=fly.name,\n",
    "            targeted_flies_id=[fly.name], play_speed=0.1\n",
    "        )\n",
    "        sim = SingleFlySimulation(\n",
    "            fly=fly,\n",
    "            cameras=[cam],\n",
    "            timestep=1e-4,\n",
    "            arena=terrain,\n",
    "        )\n",
    "        sim.reset()\n",
    "\n",
    "        if controller_name == \"CPG-based\":\n",
    "            intrinsic_freqs = np.ones(6) * 12\n",
    "            intrinsic_amps = np.ones(6) * 1\n",
    "            phase_biases = np.pi * np.array(\n",
    "                [\n",
    "                    [0, 1, 0, 1, 0, 1],\n",
    "                    [1, 0, 1, 0, 1, 0],\n",
    "                    [0, 1, 0, 1, 0, 1],\n",
    "                    [1, 0, 1, 0, 1, 0],\n",
    "                    [0, 1, 0, 1, 0, 1],\n",
    "                    [1, 0, 1, 0, 1, 0],\n",
    "                ]\n",
    "            )\n",
    "            coupling_weights = (phase_biases > 0) * 10\n",
    "            convergence_coefs = np.ones(6) * 20\n",
    "            cpg_network = CPGNetwork(\n",
    "                timestep=timestep,\n",
    "                intrinsic_freqs=intrinsic_freqs,\n",
    "                intrinsic_amps=intrinsic_amps,\n",
    "                coupling_weights=coupling_weights,\n",
    "                phase_biases=phase_biases,\n",
    "                convergence_coefs=convergence_coefs,\n",
    "            )\n",
    "            try:\n",
    "                run_cpg_simulation(sim, cpg_network, preprogrammed_steps, run_time)\n",
    "            except PhysicsError as e:\n",
    "                print(f\"Simulation failed with error: {e}\")\n",
    "        elif controller_name == \"Rule-based\":\n",
    "            weights = {\n",
    "                \"rule1\": -10,\n",
    "                \"rule2_ipsi\": 2.5,\n",
    "                \"rule2_contra\": 1,\n",
    "                \"rule3_ipsi\": 3.0,\n",
    "                \"rule3_contra\": 2.0,\n",
    "            }\n",
    "            rules_graph = construct_rules_graph()\n",
    "            controller = RuleBasedController(\n",
    "                timestep=timestep,\n",
    "                rules_graph=rules_graph,\n",
    "                weights=weights,\n",
    "                preprogrammed_steps=preprogrammed_steps,\n",
    "            )\n",
    "            try:\n",
    "                run_rule_based_simulation(sim, controller, run_time)\n",
    "            except PhysicsError as e:\n",
    "                print(f\"Simulation failed with error: {e}\")\n",
    "        else:\n",
    "            raise ValueError(f\"Unknown controller: {controller}\")\n",
    "\n",
    "        x_pos = sim.get_observation()[\"fly\"][0, 0]\n",
    "        print(f\"Final x position: {x_pos:.4f} mm\")\n",
    "\n",
    "        cam.save_video(output_dir / f\"{controller_name}_{terrain_name}.mp4\")"
   ]
  },
  {
   "cell_type": "markdown",
   "metadata": {},
   "source": [
    "Though we have only tested one initial condition (spawn position, controller) per case, we can already begin to observe that the CPG- and rule-based controllers may not perform robustly over complex terrain. In fact, if we run 20 initial conditions for 1 second each, we get a result like the one reported in the NeuroMechFly v2 paper (Wang-Chen et al., 2023):\n",
    "\n",
    "<img src=\"https://github.com/NeLy-EPFL/_media/blob/main/flygym/hybrid_controller/cpg_rule_based_comparison.png?raw=true\" alt=\"cpg_rule_based_comparison\" width=\"800\"/>\n",
    "\n",
    "We can look more closely at some examples of failed locomotion:\n",
    "\n",
    "*CPG-based controller over gapped terrain:*\n",
    "\n",
    "<video width=\"400\" controls>\n",
    "  <source src=\"https://raw.githubusercontent.com/NeLy-EPFL/_media/main/flygym/hybrid_controller/CPG-based_gapped.mp4\" type=\"video/mp4\">\n",
    "</video>\n",
    "\n",
    "*Rule-based controller over gapped terrain:*\n",
    "\n",
    "<video width=\"400\" controls>\n",
    "  <source src=\"https://raw.githubusercontent.com/NeLy-EPFL/_media/main/flygym/hybrid_controller/Rule-based_gapped.mp4\" type=\"video/mp4\">\n",
    "</video>\n",
    "\n",
    "In the next section, we will show how, by combining CPGs with sensory feedback, we can build a more robust \"hybrid\" controller."
   ]
  },
  {
   "cell_type": "markdown",
   "metadata": {},
   "source": [
    "## Building a hybrid controller\n",
    "\n",
    "Now, we will build a hybrid controller that integrates both CPG-like oscillators and sensory feedback-based rules that reposition the legs when they get stuck. As described in the NeuroMechFly v2 paper, we will detect the following conditions:\n",
    "\n",
    "1. **Retraction:** In principle, with the tripod gait, there should always be three legs on the ground. Therefore, if any leg is extended farther than the third most extended leg in the z-direction (height), this leg may be stuck in a hole. This rule will lift the leg to recover it from a stuck position.\n",
    "2. **Stumbling:** In principle, only the tip of the tarsus of each leg should contact with the ground. Therefore, we will consider the fly to be stumbling if the tibia or upper tarsal segments (1 and 2) collide with terrain resulting in a supra-threshold force against the direction of the fly’s heading. To correct for stumbling we will lift the stumbling leg.\n",
    "\n",
    "To implement these rules, we will create a variable for each rule that keeps track of the extent to which a given leg should be lifted:"
   ]
  },
  {
   "cell_type": "code",
   "execution_count": null,
   "metadata": {},
   "outputs": [],
   "source": [
    "retraction_correction = np.zeros(6)\n",
    "stumbling_correction = np.zeros(6)\n",
    "\n",
    "retraction_persistence_counter = np.zeros(6)"
   ]
  },
  {
   "cell_type": "markdown",
   "metadata": {},
   "source": [
    "We will also define a vector representing how each DoF should be adjusted to implement leg lifting. We will call this $\\vec{v}_\\text{leg}$."
   ]
  },
  {
   "cell_type": "code",
   "execution_count": null,
   "metadata": {},
   "outputs": [],
   "source": [
    "correction_vectors = {\n",
    "    # \"leg pos\": (Coxa, Coxa_roll, Coxa_yaw, Femur, Femur_roll, Tibia, Tarsus1)\n",
    "    # unit: radian\n",
    "    \"F\": np.array([-0.03, 0, 0, -0.03, 0, 0.03, 0.03]),\n",
    "    \"M\": np.array([-0.015, 0.001, 0.025, -0.02, 0, -0.02, 0.0]),\n",
    "    \"H\": np.array([0, 0, 0, -0.02, 0, 0.01, -0.02]),\n",
    "}"
   ]
  },
  {
   "cell_type": "markdown",
   "metadata": {},
   "source": [
    "That is, when the leg should be lifted, we will increment the joint angles on this leg by $\\vec{v}_\\text{leg}$ scaled by a factor defining the extent of correction. When the condition is no longer met, we will reduce the correction term until it reaches zero (i.e., with no adjustment) so that the target angles applied to the simulator are those suggested by the corresponding CPGs.\n",
    "\n",
    "Next, we need to define the factor dictating the extent of correction. Recall that we will progressively lift the leg when an adjustment is necessary. Therefore, let's also define the rate of adjustment $k_\\text{inc}$ when the condition is met and the rate of recovery $k_\\text{dec}$ when the condition is no longer met:"
   ]
  },
  {
   "cell_type": "code",
   "execution_count": null,
   "metadata": {},
   "outputs": [],
   "source": [
    "correction_rates = {\n",
    "    # \"rule\": (increment rate, decrement rate). unit: 1/sec\n",
    "    \"retraction\": (800, 700),\n",
    "    \"stumbling\": (2200, 1800),\n",
    "}"
   ]
  },
  {
   "cell_type": "markdown",
   "metadata": {},
   "source": [
    "Concretely, we will initialize the amount of correction $c$ to 0. This variable is unitless. For every $t$ amount of time that the condition is met, we increment $c$ by $k_\\text{inc}t$ where $k_\\text{inc}$ is the appropriate correction rate. Similarly, for every $t$ amount of time that the condition is no longer met, we will decrement $c$ by $k_\\text{dec}t$ until it reaches 0. We will therefore adjust the leg joint angles by adding $c\\vec{v}_\\text{leg}$ to it."
   ]
  },
  {
   "cell_type": "markdown",
   "metadata": {},
   "source": [
    "We should also define a threshold for the stumbling force. Note that a negative number indicates a force against the direction in which the fly is facing:"
   ]
  },
  {
   "cell_type": "code",
   "execution_count": null,
   "metadata": {},
   "outputs": [],
   "source": [
    "stumbling_force_threshold = -1"
   ]
  },
  {
   "cell_type": "markdown",
   "metadata": {},
   "source": [
    "Next, we will define the underlying CPG network as we did in the [tutorial on CPG-based control](https://neuromechfly.org/tutorials/cpg_controller.html):"
   ]
  },
  {
   "cell_type": "code",
   "execution_count": null,
   "metadata": {},
   "outputs": [],
   "source": [
    "run_time = 1\n",
    "timestep = 1e-4\n",
    "\n",
    "# define parameters for persistence and cap the increment\n",
    "max_increment = 80 / 1e-4\n",
    "retraction_persistence = 20 / 1e-4\n",
    "persistence_init_thr = 20 / 1e-4\n",
    "\n",
    "right_leg_inversion = [1, -1, -1, 1, -1, 1, 1]\n",
    "\n",
    "# Initialize the CPG network\n",
    "intrinsic_freqs = np.ones(6) * 12\n",
    "intrinsic_amps = np.ones(6) * 1\n",
    "phase_biases = np.pi * np.array(\n",
    "    [\n",
    "        [0, 1, 0, 1, 0, 1],\n",
    "        [1, 0, 1, 0, 1, 0],\n",
    "        [0, 1, 0, 1, 0, 1],\n",
    "        [1, 0, 1, 0, 1, 0],\n",
    "        [0, 1, 0, 1, 0, 1],\n",
    "        [1, 0, 1, 0, 1, 0],\n",
    "    ]\n",
    ")\n",
    "coupling_weights = (phase_biases > 0) * 10\n",
    "convergence_coefs = np.ones(6) * 20\n",
    "cpg_network = CPGNetwork(\n",
    "    timestep=1e-4,\n",
    "    intrinsic_freqs=intrinsic_freqs,\n",
    "    intrinsic_amps=intrinsic_amps,\n",
    "    coupling_weights=coupling_weights,\n",
    "    phase_biases=phase_biases,\n",
    "    convergence_coefs=convergence_coefs,\n",
    ")"
   ]
  },
  {
   "cell_type": "markdown",
   "metadata": {},
   "source": [
    "Similarly, let's define the preprogrammed steps:"
   ]
  },
  {
   "cell_type": "code",
   "execution_count": null,
   "metadata": {},
   "outputs": [],
   "source": [
    "# Initialize preprogrammed steps\n",
    "preprogrammed_steps = PreprogrammedSteps()"
   ]
  },
  {
   "cell_type": "markdown",
   "metadata": {},
   "source": [
    "In our hybrid controller the action performed by a leg stuck in a hole or colliding with an edge depends on the stepping phase. Upon on activating one of the rules, when the leg is in stance and adhesion is on, the leg can be slightly more extended to allow the other legs to overcome an obstacle. When the leg is in swing and one of the legs is active, the leg can be retracted higher to help overcome the obstacle. Here we define the phasic gain that will help to implement this behavior."
   ]
  },
  {
   "cell_type": "code",
   "execution_count": null,
   "metadata": {},
   "outputs": [
    {
     "data": {
      "image/png": "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",
      "text/plain": [
       "<Figure size 700x300 with 1 Axes>"
      ]
     },
     "metadata": {},
     "output_type": "display_data"
    }
   ],
   "source": [
    "from scipy.interpolate import interp1d\n",
    "\n",
    "step_phase_gain = {}\n",
    "\n",
    "for leg in preprogrammed_steps.legs:\n",
    "    swing_start, swing_end = preprogrammed_steps.swing_period[leg]\n",
    "\n",
    "    step_points = [\n",
    "        swing_start,\n",
    "        np.mean([swing_start, swing_end]),\n",
    "        swing_end + np.pi / 4,\n",
    "        np.mean([swing_end, 2 * np.pi]),\n",
    "        2 * np.pi,\n",
    "    ]\n",
    "    preprogrammed_steps.swing_period[leg] = (swing_start, swing_end + np.pi / 4)\n",
    "    increment_vals = [0, 0.8, 0, -0.1, 0]\n",
    "\n",
    "    step_phase_gain[leg] = interp1d(\n",
    "        step_points, increment_vals, kind=\"linear\", fill_value=\"extrapolate\"\n",
    "    )\n",
    "\n",
    "fig = plt.figure(figsize=(7, 3), tight_layout=True)\n",
    "step_phase = np.linspace(0, 4 * np.pi, 100)\n",
    "\n",
    "plt.plot(step_phase, step_phase_gain[leg](step_phase % (2 * np.pi)), label=leg)\n",
    "for i in range(2):\n",
    "    plt.axvspan(\n",
    "        swing_start + i * 2 * np.pi,\n",
    "        swing_end + i * 2 * np.pi,\n",
    "        color=\"red\",\n",
    "        alpha=0.2,\n",
    "        label=\"swing\",\n",
    "    )\n",
    "plt.legend()\n",
    "plt.xlabel(\"Phase (rad)\")\n",
    "plt.ylabel(\"Gain\")\n",
    "# label in pi\n",
    "plt.xticks(\n",
    "    [0, np.pi, 2 * np.pi, 3 * np.pi, 4 * np.pi],\n",
    "    [\"0\", r\"$\\pi$\", r\"$2\\pi$\", r\"$3\\pi$\", r\"$4\\pi$\"],\n",
    ")\n",
    "plt.title(\"Step phase dependent gain\")\n",
    "plt.savefig(output_dir / \"step_phase_dependent_gain.png\")"
   ]
  },
  {
   "cell_type": "markdown",
   "metadata": {},
   "source": [
    "... and the NeuroMechFly simulation over mixed terrain. We will enable contact detection for all tibial and tarsal segments to achieve stumbling detection:"
   ]
  },
  {
   "cell_type": "code",
   "execution_count": null,
   "metadata": {},
   "outputs": [],
   "source": [
    "# Initialize NeuroMechFly simulation\n",
    "# Initialize the simulation\n",
    "\n",
    "contact_sensor_placements = [\n",
    "    f\"{leg}{segment}\"\n",
    "    for leg in preprogrammed_steps.legs\n",
    "    for segment in [\"Tibia\", \"Tarsus1\", \"Tarsus2\", \"Tarsus3\", \"Tarsus4\", \"Tarsus5\"]\n",
    "]\n",
    "\n",
    "np.random.seed(0)\n",
    "fly = Fly(\n",
    "    enable_adhesion=True,\n",
    "    draw_adhesion=True,\n",
    "    init_pose=\"stretch\",\n",
    "    control=\"position\",\n",
    "    contact_sensor_placements=contact_sensor_placements,\n",
    ")\n",
    "cam = ZStabCamera(\n",
    "    attachment_point=fly.model.worldbody,\n",
    "    camera_name=\"camera_left\", attachment_name=fly.name,\n",
    "    targeted_flies_id=[fly.name], play_speed=0.1\n",
    ")\n",
    "arena = MixedTerrain()\n",
    "sim = SingleFlySimulation(\n",
    "    fly=fly,\n",
    "    cameras=[cam],\n",
    "    timestep=1e-4,\n",
    "    arena=arena,\n",
    ")\n",
    "_ = sim.reset()"
   ]
  },
  {
   "cell_type": "markdown",
   "metadata": {},
   "source": [
    "Let's build a dictionary containing the indices of the contact sensors on each leg. These will be used to detect stumbling:"
   ]
  },
  {
   "cell_type": "code",
   "execution_count": null,
   "metadata": {},
   "outputs": [],
   "source": [
    "detected_segments = [\"Tibia\", \"Tarsus1\", \"Tarsus2\"]\n",
    "stumbling_sensors = {leg: [] for leg in preprogrammed_steps.legs}\n",
    "for i, sensor_name in enumerate(fly.contact_sensor_placements):\n",
    "    leg = sensor_name.split(\"/\")[1][:2]  # sensor_name: eg. \"Animat/LFTarsus1\"\n",
    "    segment = sensor_name.split(\"/\")[1][2:]\n",
    "    if segment in detected_segments:\n",
    "        stumbling_sensors[leg].append(i)\n",
    "stumbling_sensors = {k: np.array(v) for k, v in stumbling_sensors.items()}"
   ]
  },
  {
   "cell_type": "markdown",
   "metadata": {},
   "source": [
    "As a sanity check, let's make sure that the number of stumble sensors per leg is as expected:"
   ]
  },
  {
   "cell_type": "code",
   "execution_count": null,
   "metadata": {},
   "outputs": [],
   "source": [
    "if any(v.size != len(detected_segments) for v in stumbling_sensors.values()):\n",
    "    raise RuntimeError(\n",
    "        \"Contact detection must be enabled for all tibia, tarsus1, and tarsus2 \"\n",
    "        \"segments for stumbling detection.\"\n",
    "    )"
   ]
  },
  {
   "cell_type": "markdown",
   "metadata": {},
   "source": [
    "We are now ready to write the main simulation loop. We will implement and execute the entire loop before explaining its constituent components:"
   ]
  },
  {
   "cell_type": "code",
   "execution_count": null,
   "metadata": {},
   "outputs": [
    {
     "name": "stderr",
     "output_type": "stream",
     "text": [
      "100%|██████████| 10000/10000 [00:55<00:00, 181.22it/s]\n"
     ]
    }
   ],
   "source": [
    "target_num_steps = int(run_time / sim.timestep)\n",
    "obs_list = []\n",
    "\n",
    "physics_error = False\n",
    "\n",
    "obs, _ = sim.reset()\n",
    "\n",
    "for k in trange(target_num_steps):\n",
    "    # retraction rule: does a leg need to be retracted from a hole?\n",
    "    end_effector_z_pos = obs[\"fly\"][0][2] - obs[\"end_effectors\"][:, 2]\n",
    "    end_effector_z_pos_sorted_idx = np.argsort(end_effector_z_pos)\n",
    "    end_effector_z_pos_sorted = end_effector_z_pos[end_effector_z_pos_sorted_idx]\n",
    "    if end_effector_z_pos_sorted[-1] > end_effector_z_pos_sorted[-3] + 0.05:\n",
    "        leg_to_correct_retraction = end_effector_z_pos_sorted_idx[-1]\n",
    "        if (\n",
    "            retraction_correction[leg_to_correct_retraction]\n",
    "            > persistence_init_thr * sim.timestep\n",
    "        ):\n",
    "            retraction_persistence_counter[leg_to_correct_retraction] = 1\n",
    "    else:\n",
    "        leg_to_correct_retraction = None\n",
    "\n",
    "    # update persistence counter\n",
    "    retraction_persistence_counter[retraction_persistence_counter > 0] += 1\n",
    "    retraction_persistence_counter[\n",
    "        retraction_persistence_counter > retraction_persistence * sim.timestep\n",
    "    ] = 0\n",
    "\n",
    "    cpg_network.step()\n",
    "    joints_angles = []\n",
    "    adhesion_onoff = []\n",
    "\n",
    "    all_net_corrections = []\n",
    "\n",
    "    for i, leg in enumerate(preprogrammed_steps.legs):\n",
    "        # update amount of retraction correction\n",
    "        if (\n",
    "            i == leg_to_correct_retraction or retraction_persistence_counter[i] > 0\n",
    "        ):  # lift leg\n",
    "            increment = correction_rates[\"retraction\"][0] * sim.timestep\n",
    "            retraction_correction[i] += increment\n",
    "            sim.fly.change_segment_color(sim.physics, f\"{leg}Tibia\", (1, 0, 0, 1))\n",
    "        else:  # condition no longer met, lower leg\n",
    "            decrement = correction_rates[\"retraction\"][1] * sim.timestep\n",
    "            retraction_correction[i] = max(0, retraction_correction[i] - decrement)\n",
    "            sim.fly.change_segment_color(sim.physics, f\"{leg}Tibia\", (0.5, 0.5, 0.5, 1))\n",
    "\n",
    "        # update amount of stumbling correction\n",
    "        contact_forces = obs[\"contact_forces\"][stumbling_sensors[leg], :]\n",
    "        fly_orientation = obs[\"fly_orientation\"]\n",
    "        # force projection should be negative if against fly orientation\n",
    "        force_proj = np.dot(contact_forces, fly_orientation)\n",
    "        if (force_proj < stumbling_force_threshold).any():\n",
    "            increment = correction_rates[\"stumbling\"][0] * sim.timestep\n",
    "            stumbling_correction[i] += increment\n",
    "            if retraction_correction[i] <= 0:\n",
    "                sim.fly.change_segment_color(sim.physics, f\"{leg}Femur\", (1, 0, 0, 1))\n",
    "        else:\n",
    "            decrement = correction_rates[\"stumbling\"][1] * sim.timestep\n",
    "            stumbling_correction[i] = max(0, stumbling_correction[i] - decrement)\n",
    "            sim.fly.change_segment_color(sim.physics, f\"{leg}Femur\", (0.5, 0.5, 0.5, 1))\n",
    "\n",
    "        # retraction correction is prioritized\n",
    "        if retraction_correction[i] > 0:\n",
    "            net_correction = retraction_correction[i]\n",
    "            stumbling_correction[i] = 0\n",
    "        else:\n",
    "            net_correction = stumbling_correction[i]\n",
    "\n",
    "        # get target angles from CPGs and apply correction\n",
    "        my_joints_angles = preprogrammed_steps.get_joint_angles(\n",
    "            leg, cpg_network.curr_phases[i], cpg_network.curr_magnitudes[i]\n",
    "        )\n",
    "        net_correction = np.clip(net_correction, 0, max_increment * sim.timestep)\n",
    "        if leg[0] == \"R\":\n",
    "            net_correction *= right_leg_inversion[i]\n",
    "\n",
    "        # apply phase-dependent gain\n",
    "        net_correction *= step_phase_gain[leg](cpg_network.curr_phases[i] % (2 * np.pi))\n",
    "\n",
    "        my_joints_angles += net_correction * correction_vectors[leg[1]]\n",
    "        joints_angles.append(my_joints_angles)\n",
    "\n",
    "        all_net_corrections.append(net_correction)\n",
    "\n",
    "        # get adhesion on/off signal\n",
    "        my_adhesion_onoff = preprogrammed_steps.get_adhesion_onoff(\n",
    "            leg, cpg_network.curr_phases[i]\n",
    "        )\n",
    "\n",
    "        adhesion_onoff.append(my_adhesion_onoff)\n",
    "\n",
    "    action = {\n",
    "        \"joints\": np.array(np.concatenate(joints_angles)),\n",
    "        \"adhesion\": np.array(adhesion_onoff).astype(int),\n",
    "    }\n",
    "    obs, reward, terminated, truncated, info = sim.step(action)\n",
    "    obs[\"net_correction\"] = all_net_corrections\n",
    "    obs_list.append(obs)\n",
    "    sim.render()"
   ]
  },
  {
   "cell_type": "code",
   "execution_count": null,
   "metadata": {},
   "outputs": [
    {
     "name": "stdout",
     "output_type": "stream",
     "text": [
      "Simulation terminated: [ 4.749214   7.703649  -0.3740902]\n"
     ]
    }
   ],
   "source": [
    "print(f\"Simulation terminated: {obs_list[-1]['fly'][0] - obs_list[0]['fly'][0]}\")"
   ]
  },
  {
   "cell_type": "markdown",
   "metadata": {},
   "source": [
    "At each simulation time step, we first check whether the retraction rule is met. This depends on whether any leg is extended further than the third most extended leg in the z-direction by a margin of 0.05 mm. This margin is important because contact calculations in the physics simulator are imperfect sometimes causing the leg to penetrate the floor by a small amount. If two legs meet this condition, only the most extended leg is corrected:\n",
    "\n",
    "```Python\n",
    "    # retraction rule: does a leg need to be retracted from a hole?\n",
    "    end_effector_z_pos = obs[\"fly\"][0][2] - obs[\"end_effectors\"][:, 2]\n",
    "    end_effector_z_pos_sorted_idx = np.argsort(end_effector_z_pos)\n",
    "    end_effector_z_pos_sorted = end_effector_z_pos[end_effector_z_pos_sorted_idx]\n",
    "   if end_effector_z_pos_sorted[-1] > end_effector_z_pos_sorted[-3] + 0.05:\n",
    "        leg_to_correct_retraction = end_effector_z_pos_sorted_idx[-1]\n",
    "        if retraction_correction[leg_to_correct_retraction] > persistence_init_thr*sim.timestep:\n",
    "            retraction_persistence_counter[leg_to_correct_retraction] = 1\n",
    "    else:\n",
    "        leg_to_correct_retraction = None\n",
    "\n",
    "    # update persistence counter\n",
    "    retraction_persistence_counter[retraction_persistence_counter > 0] += 1\n",
    "    retraction_persistence_counter[\n",
    "        retraction_persistence_counter > retraction_persistence*sim.timestep\n",
    "    ] = 0\n",
    "```\n",
    "\n",
    "We also implemented persistence so that the rule is still active for a few steps after the condition is no longer met. The leg's protraction should be maintained for some time to avoid it falling back into the hole."
   ]
  },
  {
   "cell_type": "markdown",
   "metadata": {},
   "source": [
    "Then, have an inner loop that iterates over all legs. The joint angles and adhesion on/off signals are calculated here. We first update the amount of correction :math:`c` for the retraction rule:\n",
    "\n",
    "```Python\n",
    "        # update amount of retraction correction\n",
    "        if (\n",
    "            i == leg_to_correct_retraction or retraction_persistence_counter[i] > 0\n",
    "        ):  # lift leg\n",
    "            increment = correction_rates[\"retraction\"][0] * nmf.timestep\n",
    "            retraction_correction[i] += increment\n",
    "            nmf.change_segment_color(f\"{leg}Tibia\", (1, 0, 0, 1))\n",
    "        else:  # condition no longer met, lower leg\n",
    "            decrement = correction_rates[\"retraction\"][1] * nmf.timestep\n",
    "            retraction_correction[i] = max(0, retraction_correction[i] - decrement)\n",
    "            nmf.change_segment_color(f\"{leg}Tibia\", (0.5, 0.5, 0.5, 1))\n",
    "```\n",
    "\n",
    "Similarly, we update the correction amount $c$ for the stumbling rule:\n",
    "\n",
    "```Python\n",
    "        # update amount of stumbling correction\n",
    "        contact_forces = obs[\"contact_forces\"][stumbling_sensors[leg], :]\n",
    "        fly_orientation = obs[\"fly_orientation\"]\n",
    "        # force projection should be negative if against fly orientation\n",
    "        force_proj = np.dot(contact_forces, fly_orientation)\n",
    "        if (force_proj < stumbling_force_threshold).any():\n",
    "            increment = correction_rates[\"stumbling\"][0] * nmf.timestep\n",
    "            stumbling_correction[i] += increment\n",
    "            if retraction_correction[i] <= 0:\n",
    "                nmf.change_segment_color(f\"{leg}Femur\", (1, 0, 0, 1))\n",
    "        else:\n",
    "            decrement = correction_rates[\"stumbling\"][1] * nmf.timestep\n",
    "            stumbling_correction[i] = max(0, stumbling_correction[i] - decrement)\n",
    "            nmf.change_segment_color(f\"{leg}Femur\", (0.5, 0.5, 0.5, 1))\n",
    "```\n",
    "\n",
    "In case both rules are active for the same leg, we will only apply the retraction correction:\n",
    "\n",
    "```Python\n",
    "        # retraction correction is prioritized\n",
    "        if retraction_correction[i] > 0:\n",
    "            net_correction = retraction_correction[i]\n",
    "            \n",
    "        else:\n",
    "            net_correction = stumbling_correction[i]\n",
    "```\n",
    "\n",
    "Let’s first obtain the initial joint angles based purely on the CPG phase and preprogrammed step. Then, we will apply the lifting correction:\n",
    "\n",
    "```Python\n",
    "        # get target angles from CPGs and apply correction\n",
    "        my_joints_angles = preprogrammed_steps.get_joint_angles(\n",
    "            leg, cpg_network.curr_phases[i], cpg_network.curr_magnitudes[i]\n",
    "        )\n",
    "        my_joints_angles += net_correction * correction_vectors[leg[1]]\n",
    "        joints_angles.append(my_joints_angles)\n",
    "```\n",
    "\n",
    "The net correction for roll and yaw angles needs to be inverted for the resulting action to be symmetric\n",
    "\n",
    "```Python\n",
    "     net_correction = np.clip(net_correction, 0, max_increment*sim.timestep)\n",
    "        if leg[0] == \"R\":\n",
    "            net_correction *= right_leg_inversion[i]\n",
    "```\n",
    "The net correction needs to be reversed to lead to retraction or protraction if during swing or stance phase\n",
    "\n",
    "```Python\n",
    "        # apply phase dependent gain\n",
    "        net_correction *= step_phase_gain[leg](cpg_network.curr_phases[i] % (2*np.pi))\n",
    "```\n",
    "\n",
    "Finally, we can obtain the adhesion on/off signal based on the leg phase as well:\n",
    "\n",
    "```Python\n",
    "        # get adhesion on/off signal\n",
    "        my_adhesion_onoff = preprogrammed_steps.get_adhesion_onoff(\n",
    "            leg, cpg_network.curr_phases[i]\n",
    "        )\n",
    "        adhesion_onoff.append(my_adhesion_onoff)\n",
    "```\n",
    "\n",
    "We now have all we need to feed the action into the NeuroMechFly simulation. Don’t forget to call `.render()` to record the video correctly.\n",
    "\n",
    "```Python\n",
    "    action = {\n",
    "        \"joints\": np.array(np.concatenate(joints_angles)),\n",
    "        \"adhesion\": np.array(adhesion_onoff).astype(int),\n",
    "    }\n",
    "    obs, reward, terminated, truncated, info = nmf.step(action)\n",
    "    nmf.render()\n",
    "```\n"
   ]
  },
  {
   "cell_type": "markdown",
   "metadata": {},
   "source": [
    "Let's visualize the results:"
   ]
  },
  {
   "cell_type": "code",
   "execution_count": null,
   "metadata": {},
   "outputs": [],
   "source": [
    "cam.save_video(output_dir / \"hybrid_controller_mixed_terrain.mp4\")"
   ]
  },
  {
   "cell_type": "markdown",
   "metadata": {},
   "source": [
    "<video width=\"400\" controls>\n",
    "  <source src=\"https://raw.githubusercontent.com/NeLy-EPFL/_media/main/flygym/hybrid_controller/hybrid_controller_mixed_terrain.mp4\" type=\"video/mp4\">\n",
    "</video>\n",
    "\n",
    "Even based on this single example, this hybrid controller looks better than the CPG- or rule-based controller. Indeed, we obtained the following results by running 20 simulations for each controller over each terrain type starting with different initial conditions. These show that a hybrid controller outperforms the other two controllers (see the NeuroMechFly v2 paper for details):\n",
    "\n",
    "<img src=\"https://github.com/NeLy-EPFL/_media/blob/main/flygym/hybrid_controller/cpg_rule_based_hybrid_comparison.png?raw=true\" alt=\"cpg_rule_based_comparison\" width=\"800\"/>\n",
    "\n",
    "These results demonstrate how rugged terrain can expose failure modes for controllers that otherwise work well on flat terrain, and how you can use NeuroMechFly to benchmark different control strategies that go beyond the classic dichotomy of CPG- versus rule-based control.\n",
    "\n",
    "In the next tutorial, we will refactor our hybrid controller code into a Python class that implements the Gym interface. This will allow us to show how to build control models with different degrees of abstraction and preprogrammed computations."
   ]
  }
 ],
 "metadata": {
  "kernelspec": {
   "display_name": "flygym",
   "language": "python",
   "name": "python3"
  },
  "language_info": {
   "codemirror_mode": {
    "name": "ipython",
    "version": 3
   },
   "file_extension": ".py",
   "mimetype": "text/x-python",
   "name": "python",
   "nbconvert_exporter": "python",
   "pygments_lexer": "ipython3",
   "version": "3.12.8"
  },
  "orig_nbformat": 4
 },
 "nbformat": 4,
 "nbformat_minor": 2
}
